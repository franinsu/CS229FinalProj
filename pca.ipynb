{
 "cells": [
  {
   "cell_type": "code",
   "execution_count": 1,
   "metadata": {},
   "outputs": [],
   "source": [
    "import numpy as np\n",
    "import tensorflow as tf\n",
    "from tensorflow import keras\n",
    "import matplotlib.pyplot as plt\n",
    "from pylab import *\n",
    "import csv,os, glob\n",
    "from sklearn.decomposition import PCA,IncrementalPCA,KernelPCA\n",
    "import random\n",
    "import pickle"
   ]
  },
  {
   "cell_type": "code",
   "execution_count": 2,
   "metadata": {},
   "outputs": [
    {
     "name": "stdout",
     "output_type": "stream",
     "text": [
      "Size train: 33539\n",
      "Size dev: 3946\n",
      "Size test: 1973\n"
     ]
    }
   ],
   "source": [
    "XY=np.load(\"/gpfs/slac/staas/fs1/g/supercdms/tf/northwestern/users/franinsu/testRun3/XY60k.npz\")\n",
    "X=XY[\"X\"]\n",
    "Y=XY[\"Y\"]\n",
    "Yrange = np.array([2048,20])# Ymax-Ymin\n",
    "N=len(X)\n",
    "m_train = round(.95*N)\n",
    "m_dev =  round(10/95*m_train)\n",
    "idx = np.random.permutation(N)\n",
    "X_train, X_test = X[idx[:m_train]], X[idx[m_train:]]\n",
    "Y_train, Y_test = Y[idx[:m_train]], Y[idx[m_train:]]\n",
    "#dev is subset of train but isn't actually used in training\n",
    "X_dev, Y_dev  = X_train[-m_dev:], Y_train[-m_dev:]\n",
    "print(\"Size train:\",X_train.shape[0]-X_dev.shape[0])\n",
    "print(\"Size dev:\",X_dev.shape[0])\n",
    "print(\"Size test:\", X_test.shape[0])"
   ]
  },
  {
   "cell_type": "code",
   "execution_count": 4,
   "metadata": {},
   "outputs": [
    {
     "data": {
      "text/plain": [
       "IncrementalPCA(batch_size=5000, copy=True, n_components=1024, whiten=False)"
      ]
     },
     "execution_count": 4,
     "metadata": {},
     "output_type": "execute_result"
    }
   ],
   "source": [
    "pca = IncrementalPCA(n_components=1024, batch_size=5000)\n",
    "pca.fit(X_train[:round(0.2*(m_train-m_dev))])"
   ]
  },
  {
   "cell_type": "code",
   "execution_count": 5,
   "metadata": {},
   "outputs": [],
   "source": [
    "with open('pca_20p_rbt.pkl', 'wb') as f:\n",
    "        pickle.dump(pca, f, pickle.HIGHEST_PROTOCOL)"
   ]
  },
  {
   "cell_type": "code",
   "execution_count": 6,
   "metadata": {},
   "outputs": [],
   "source": [
    "with open('/home/franinsu/notebooks/pca_20p_rbt.pkl', 'rb') as f:\n",
    "    unpickler = pickle.Unpickler(f)\n",
    "        # if file is not empty scores will be equal\n",
    "        # to the value unpickled\n",
    "    pca = unpickler.load()"
   ]
  },
  {
   "cell_type": "code",
   "execution_count": null,
   "metadata": {},
   "outputs": [],
   "source": [
    "kpca = KernelPCA(kernel=\"rbf\", n_components=1024)\n",
    "# kpca.fit(X_train[:5000])\n",
    "kpca.fit(X_train[:round(0.2*(m_train-m_dev))])"
   ]
  },
  {
   "cell_type": "code",
   "execution_count": null,
   "metadata": {},
   "outputs": [],
   "source": [
    "with open('kpca_20p_rbt.pkl', 'wb') as f:\n",
    "        pickle.dump(kpca, f, pickle.HIGHEST_PROTOCOL)"
   ]
  },
  {
   "cell_type": "code",
   "execution_count": 7,
   "metadata": {},
   "outputs": [],
   "source": [
    "X_train_T = pca.transform(X_train)"
   ]
  },
  {
   "cell_type": "code",
   "execution_count": 35,
   "metadata": {},
   "outputs": [],
   "source": [
    "seed = 32\n",
    "n_input=X_train_T.shape[1]\n",
    "learning_rate=0.0008\n",
    "n_out = 1\n",
    "fresh_variables = True\n",
    "dropout_rate = [1.]*6 #[0.7,0.7,0.7,0.7,0.7]\n",
    "sizes = [n_input,512,256,128,64,32,n_out]\n",
    "EPOCHS = 2000\n",
    "beta = 0.0001\n",
    "weights = {}\n",
    "biases = {}\n",
    "\n",
    "# for i in range(len(sizes)-1):\n",
    "#     weights['h'+str(i)] = tf.Variable(tf.random_normal([sizes[i], sizes[i+1]], seed=seed))\n",
    "#     biases['b'+str(i)] = tf.Variable(tf.random_normal([sizes[i+1]], seed=seed))\n",
    "initializer=tf.contrib.layers.xavier_initializer(seed=seed)\n",
    "for i in range(len(sizes)-1):\n",
    "    weights['h'+str(i)] = tf.Variable(initializer([sizes[i], sizes[i+1]]))\n",
    "    biases['b'+str(i)] = tf.Variable(initializer([sizes[i+1]]))\n",
    "\n",
    "\n",
    "# #defining placeholders\n",
    "# #input image placeholder\n",
    "x=tf.placeholder(\"float\",[None,n_input])\n",
    "#input label placeholder\n",
    "y=tf.placeholder(\"float\",[None,n_out])\n",
    "prob= tf.placeholder_with_default([1.0]*(len(sizes)-1), shape=(len(sizes)-1))\n",
    "device_name = \"/device:GPU:0\""
   ]
  },
  {
   "cell_type": "code",
   "execution_count": 36,
   "metadata": {},
   "outputs": [],
   "source": [
    "with tf.device(device_name):\n",
    "    r = x\n",
    "    for i in range(len(sizes)-2):\n",
    "        r = tf.matmul(r,weights['h'+str(i)])\n",
    "        r = tf.add(r,biases['b'+str(i)])\n",
    "        r = tf.nn.relu(r)\n",
    "        r = tf.nn.dropout(r,prob[i])\n",
    "    r = tf.matmul(r,weights['h'+str(i+1)])\n",
    "    r = tf.add(r,biases['b'+str(i+1)])\n",
    "    r = tf.nn.relu(r)\n",
    "    prediction = r\n",
    "    regularizer = tf.nn.l2_loss(weights['h0'])\n",
    "    for i in range(len(sizes)-2):\n",
    "        regularizer += tf.nn.l2_loss(weights['h'+str(i+1)])\n",
    "    loss = tf.reduce_mean((y - prediction)**2+beta*regularizer)\n",
    "    train = tf.train.AdamOptimizer(learning_rate).minimize(loss)\n",
    "saver = tf.train.Saver()"
   ]
  },
  {
   "cell_type": "code",
   "execution_count": 37,
   "metadata": {},
   "outputs": [],
   "source": [
    "def mae(x_e,y_e):\n",
    "    return 2048*np.mean(np.abs(sess.run(prediction,feed_dict={x:x_e,y:y_e})-y_e))"
   ]
  },
  {
   "cell_type": "code",
   "execution_count": null,
   "metadata": {},
   "outputs": [
    {
     "name": "stdout",
     "output_type": "stream",
     "text": [
      "321.5957170029958 323.71676498080535\n",
      "For Epoch  0\n",
      "_______PCA+NN________\n",
      "83.6532413029188 162.88851989034583\n",
      "For Epoch  20\n",
      "_______PCA+NN________\n",
      "59.70064720814178 147.62929742564663\n",
      "For Epoch  40\n",
      "_______PCA+NN________\n",
      "52.704534834038824 138.95395180518048\n",
      "For Epoch  60\n",
      "_______PCA+NN________\n",
      "57.43401984414366 144.54237822790287\n",
      "For Epoch  80\n",
      "_______PCA+NN________\n",
      "88.06778635535542 163.44058417790563\n",
      "For Epoch  100\n",
      "_______PCA+NN________\n",
      "39.74968129380977 128.29468246746112\n",
      "For Epoch  120\n",
      "_______PCA+NN________\n",
      "42.40798175040275 127.90829964283452\n",
      "For Epoch  140\n",
      "_______PCA+NN________\n",
      "43.66523514515052 127.70194349177767\n",
      "For Epoch  160\n",
      "_______PCA+NN________\n",
      "60.44676081608701 142.24784653862298\n",
      "For Epoch  180\n",
      "_______PCA+NN________\n",
      "36.506137171493684 122.7987243992631\n",
      "For Epoch  200\n",
      "_______PCA+NN________\n",
      "53.2036951697965 138.9275388335795\n",
      "For Epoch  220\n",
      "_______PCA+NN________\n",
      "38.45913669810589 125.02800217486853\n",
      "For Epoch  240\n",
      "_______PCA+NN________\n",
      "46.104349742411586 126.86157913324014\n",
      "For Epoch  260\n",
      "_______PCA+NN________\n",
      "37.53802214894647 122.43906890977414\n",
      "For Epoch  280\n",
      "_______PCA+NN________\n",
      "52.38960120936633 130.44730983140562\n",
      "For Epoch  300\n",
      "_______PCA+NN________\n",
      "46.409910791820714 128.8580836408705\n",
      "For Epoch  320\n",
      "_______PCA+NN________\n",
      "55.637187242458175 135.50589640443843\n",
      "For Epoch  340\n",
      "_______PCA+NN________\n",
      "43.34325737664431 126.8322065597975\n",
      "For Epoch  360\n",
      "_______PCA+NN________\n",
      "55.65413243549021 134.5150476253643\n",
      "For Epoch  380\n",
      "_______PCA+NN________\n",
      "47.897014221084035 131.8771091621658\n",
      "For Epoch  400\n",
      "_______PCA+NN________\n",
      "38.8270174609573 122.83365537911216\n",
      "For Epoch  420\n",
      "_______PCA+NN________\n",
      "42.856332621572555 126.46698146535851\n",
      "For Epoch  440\n",
      "_______PCA+NN________\n",
      "45.3653540285831 128.65189354998535\n",
      "For Epoch  460\n",
      "_______PCA+NN________\n",
      "47.71890904918411 128.17754780478847\n",
      "For Epoch  480\n",
      "_______PCA+NN________\n",
      "39.55095034462561 124.7557712715408\n",
      "For Epoch  500\n",
      "_______PCA+NN________\n",
      "49.64432835027994 132.81912684646042\n",
      "For Epoch  520\n",
      "_______PCA+NN________\n",
      "50.0023161876379 133.11955704377257\n",
      "For Epoch  540\n",
      "_______PCA+NN________\n",
      "35.27616662443699 121.92657888328371\n",
      "For Epoch  560\n",
      "_______PCA+NN________\n",
      "52.83663723415394 133.76501959807004\n",
      "For Epoch  580\n",
      "_______PCA+NN________\n",
      "41.24716867775435 123.93209741421298\n",
      "For Epoch  600\n",
      "_______PCA+NN________\n",
      "37.13048591387429 120.77467135058643\n",
      "For Epoch  620\n",
      "_______PCA+NN________\n",
      "47.84260942382958 127.63594119366329\n",
      "For Epoch  640\n",
      "_______PCA+NN________\n",
      "41.44241552933828 127.10147278791023\n",
      "For Epoch  660\n",
      "_______PCA+NN________\n",
      "40.18199315084328 124.90166036042234\n",
      "For Epoch  680\n",
      "_______PCA+NN________\n",
      "41.97263239571609 128.7612810478075\n",
      "For Epoch  700\n",
      "_______PCA+NN________\n",
      "37.49006691093881 123.7821413050795\n",
      "For Epoch  720\n",
      "_______PCA+NN________\n",
      "58.137735188535174 136.97074572277504\n",
      "For Epoch  740\n",
      "_______PCA+NN________\n",
      "39.07497290424138 125.92502015119148\n",
      "For Epoch  760\n",
      "_______PCA+NN________\n",
      "49.53252756905906 132.86800855123266\n",
      "For Epoch  780\n",
      "_______PCA+NN________\n",
      "52.60914093757338 134.52672359197803\n",
      "For Epoch  800\n",
      "_______PCA+NN________\n",
      "35.74308704380884 123.20270066181537\n",
      "For Epoch  820\n",
      "_______PCA+NN________\n",
      "38.662733837496084 123.07476986064805\n",
      "For Epoch  840\n",
      "_______PCA+NN________\n",
      "56.76918154488757 137.20272825601677\n",
      "For Epoch  860\n",
      "_______PCA+NN________\n",
      "45.4851214854931 131.9228553056596\n",
      "For Epoch  880\n",
      "_______PCA+NN________\n",
      "58.51396396077025 137.17342559613374\n",
      "For Epoch  900\n",
      "_______PCA+NN________\n",
      "35.951396499807124 121.0863946295002\n",
      "For Epoch  920\n",
      "_______PCA+NN________\n",
      "53.69950177303498 133.2098728031056\n",
      "For Epoch  940\n",
      "_______PCA+NN________\n",
      "39.8162901305197 125.34509948637663\n",
      "For Epoch  960\n",
      "_______PCA+NN________\n",
      "37.8851629040131 124.45629183676904\n",
      "For Epoch  980\n",
      "_______PCA+NN________\n",
      "57.67872173270996 136.23571616480692\n",
      "For Epoch  1000\n",
      "_______PCA+NN________\n",
      "36.87121711966852 122.30116144364942\n",
      "For Epoch  1020\n",
      "_______PCA+NN________\n",
      "54.406996154284705 135.7182734431921\n",
      "For Epoch  1040\n",
      "_______PCA+NN________\n",
      "43.241583976426 128.017888281349\n",
      "For Epoch  1060\n",
      "_______PCA+NN________\n",
      "38.25805772888116 123.44316250336576\n",
      "For Epoch  1080\n",
      "_______PCA+NN________\n",
      "45.780064430442685 127.8554990974345\n",
      "For Epoch  1100\n",
      "_______PCA+NN________\n",
      "40.298819600933335 123.70334154642359\n",
      "For Epoch  1120\n",
      "_______PCA+NN________\n",
      "37.79069925546682 121.6599350632959\n",
      "For Epoch  1140\n",
      "_______PCA+NN________\n",
      "47.71412825978944 131.4614671106817\n",
      "For Epoch  1160\n",
      "_______PCA+NN________\n",
      "37.20768437112159 122.30396392559317\n",
      "For Epoch  1180\n",
      "_______PCA+NN________\n",
      "48.8241181718368 131.0408349943475\n",
      "For Epoch  1200\n",
      "_______PCA+NN________\n",
      "38.33226502853371 125.21920632518491\n",
      "For Epoch  1220\n",
      "_______PCA+NN________\n",
      "41.2129382280179 127.68197262160257\n",
      "For Epoch  1240\n",
      "_______PCA+NN________\n",
      "44.96258349290542 130.33689704813816\n",
      "For Epoch  1260\n",
      "_______PCA+NN________\n",
      "36.79974030932273 125.02012826848984\n",
      "For Epoch  1280\n",
      "_______PCA+NN________\n",
      "41.41048255942476 125.20049371347172\n",
      "For Epoch  1300\n",
      "_______PCA+NN________\n",
      "42.1726053436333 125.36570295052546\n",
      "For Epoch  1320\n",
      "_______PCA+NN________\n",
      "37.28721267562344 124.1047078677379\n",
      "For Epoch  1340\n",
      "_______PCA+NN________\n",
      "46.62034461120007 128.17000546191952\n",
      "For Epoch  1360\n",
      "_______PCA+NN________\n",
      "47.2316895841525 134.28827931345626\n",
      "For Epoch  1380\n",
      "_______PCA+NN________\n",
      "50.917659168419135 132.25275654316673\n",
      "For Epoch  1400\n",
      "_______PCA+NN________\n",
      "35.1016268454204 120.85531893081007\n",
      "For Epoch  1420\n",
      "_______PCA+NN________\n",
      "50.995084974753624 132.64380461300803\n",
      "For Epoch  1440\n",
      "_______PCA+NN________\n",
      "47.112626097952194 129.94088548678647\n",
      "For Epoch  1460\n",
      "_______PCA+NN________\n",
      "37.44984902138182 123.90673944132013\n",
      "For Epoch  1480\n",
      "_______PCA+NN________\n",
      "37.42322640851357 120.3334171316434\n",
      "For Epoch  1500\n",
      "_______PCA+NN________\n",
      "45.24567412169939 130.48448811457112\n",
      "For Epoch  1520\n",
      "_______PCA+NN________\n"
     ]
    }
   ],
   "source": [
    "#initialize variables\n",
    "m_training = m_train-m_dev\n",
    "batch_size = 128\n",
    "n_iters = round(m_training/batch_size - 0.5)\n",
    "# n_iters = 1\n",
    "y0 = []\n",
    "y1 = []\n",
    "with tf.Session(config=tf.ConfigProto(log_device_placement=True)) as sess:\n",
    "    init=tf.global_variables_initializer()\n",
    "#     init = tf.local_variables_initializer()\n",
    "    sess.run(init)\n",
    "    if(not fresh_variables): saver.restore(sess,\"/home/franinsu/notebooks/model.ckpt\")\n",
    "    for j in range(EPOCHS):\n",
    "        for iter in range(n_iters):\n",
    "            batch_x=X_train_T[iter*batch_size:(iter+1)*batch_size]\n",
    "            batch_y=Y_train[iter*batch_size:(iter+1)*batch_size,0:1]\n",
    "            batch_x=batch_x.reshape((batch_size,n_input))\n",
    "            sess.run(train, feed_dict={x: batch_x, y: batch_y,prob:dropout_rate})\n",
    "            iter=iter+1\n",
    "            #los=sess.run(loss,feed_dict={x:X_train_T[:-m_dev],y:Y_train[:-m_dev,0:1]})\n",
    "        v0 = mae(X_train_T[:-m_dev],Y_train[:-m_dev,0:1])\n",
    "        v1 = mae(X_train_T[-m_dev:],Y_train[-m_dev:,0:1])\n",
    "        y0.append(v0)\n",
    "        y1.append(v1)\n",
    "#             mae=sess.run(score,feed_dict={x:X_train[:-m_dev],y:Y_train[:-m_dev,0:1],prob:0})\n",
    "        if j % 20 ==0:\n",
    "            print(v0,v1)\n",
    "            print(\"For Epoch \", j)\n",
    "    #             print(\"MAE: \",mae)\n",
    "            #print(\"Loss \",los)\n",
    "            print(\"_______PCA+NN________\")\n",
    "            save_path = saver.save(sess, \"/home/franinsu/notebooks/model.ckpt\")\n",
    "    mae(X_train_T[:-m_dev],Y_train[:-m_dev,0:1])\n",
    "    mae(X_train_T[-m_dev:],Y_train[-m_dev:,0:1])\n",
    "#     mae(X_test,Y_test[:,0:1])"
   ]
  },
  {
   "cell_type": "code",
   "execution_count": 21,
   "metadata": {},
   "outputs": [
    {
     "data": {
      "text/plain": [
       "(0, 337.5308533178872)"
      ]
     },
     "execution_count": 21,
     "metadata": {},
     "output_type": "execute_result"
    },
    {
     "data": {
      "image/png": "[encoded data removed]",
      "text/plain": [
       "<Figure size 432x288 with 1 Axes>"
      ]
     },
     "metadata": {
      "needs_background": "light"
     },
     "output_type": "display_data"
    }
   ],
   "source": [
    "plt.plot(y0,label=\"training\")\n",
    "plt.plot(y1,label=\"dev\")\n",
    "plt.ylim([0,max(y1)])"
   ]
  },
  {
   "cell_type": "code",
   "execution_count": 26,
   "metadata": {},
   "outputs": [
    {
     "data": {
      "text/plain": [
       "(0, 327.55120029826486)"
      ]
     },
     "execution_count": 26,
     "metadata": {},
     "output_type": "execute_result"
    },
    {
     "data": {
      "image/png": "[encoded data removed]",
      "text/plain": [
       "<Figure size 432x288 with 1 Axes>"
      ]
     },
     "metadata": {
      "needs_background": "light"
     },
     "output_type": "display_data"
    }
   ],
   "source": [
    "plt.plot(y0,label=\"training\")\n",
    "plt.plot(y1,label=\"dev\")\n",
    "plt.ylim([0,max(y1)])"
   ]
  },
  {
   "cell_type": "code",
   "execution_count": null,
   "metadata": {},
   "outputs": [],
   "source": []
  }
 ],
 "metadata": {
  "kernelspec": {
   "display_name": "SLAC_Stack (Python 3.6 SCL)",
   "language": "python",
   "name": "slac_stack"
  },
  "language_info": {
   "codemirror_mode": {
    "name": "ipython",
    "version": 3
   },
   "file_extension": ".py",
   "mimetype": "text/x-python",
   "name": "python",
   "nbconvert_exporter": "python",
   "pygments_lexer": "ipython3",
   "version": "3.6.3"
  }
 },
 "nbformat": 4,
 "nbformat_minor": 2
}
